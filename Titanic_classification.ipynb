{
 "cells": [
  {
   "cell_type": "markdown",
   "metadata": {},
   "source": [
    "# Titanic Classification Project\n",
    "\n",
    "This notebook demonstrates a machine learning approach to predicting Titanic survival outcomes based on passenger data.\n"
   ]
  },
  {
   "cell_type": "code",
   "execution_count": 76,
   "metadata": {},
   "outputs": [],
   "source": [
    "import pandas as pd\n",
    "import os"
   ]
  },
  {
   "cell_type": "markdown",
   "metadata": {},
   "source": [
    "## Step 1: Data Loading\n",
    "\n",
    "We start by importing the necessary libraries and loading the Titanic datasets for training and testing. Below, we also inspect the dataset to understand its structure and contents.\n"
   ]
  },
  {
   "cell_type": "code",
   "execution_count": 107,
   "metadata": {},
   "outputs": [],
   "source": [
    "pwd = os.getcwd()\n",
    "filepath1 = os.path.join(pwd, \"train.csv\")\n",
    "filepath2 = os.path.join(pwd, \"test.csv\")\n"
   ]
  },
  {
   "cell_type": "code",
   "execution_count": 108,
   "metadata": {},
   "outputs": [
    {
     "name": "stdout",
     "output_type": "stream",
     "text": [
      "<class 'pandas.core.frame.DataFrame'>\n",
      "RangeIndex: 891 entries, 0 to 890\n",
      "Data columns (total 12 columns):\n",
      " #   Column       Non-Null Count  Dtype  \n",
      "---  ------       --------------  -----  \n",
      " 0   PassengerId  891 non-null    int64  \n",
      " 1   Survived     891 non-null    int64  \n",
      " 2   Pclass       891 non-null    int64  \n",
      " 3   Name         891 non-null    object \n",
      " 4   Sex          891 non-null    object \n",
      " 5   Age          714 non-null    float64\n",
      " 6   SibSp        891 non-null    int64  \n",
      " 7   Parch        891 non-null    int64  \n",
      " 8   Ticket       891 non-null    object \n",
      " 9   Fare         891 non-null    float64\n",
      " 10  Cabin        204 non-null    object \n",
      " 11  Embarked     889 non-null    object \n",
      "dtypes: float64(2), int64(5), object(5)\n",
      "memory usage: 83.7+ KB\n"
     ]
    }
   ],
   "source": [
    "data_import_train = pd.read_csv(filepath1)\n",
    "data_import_test = pd.read_csv(filepath2)\n",
    "data_import_train.info()"
   ]
  },
  {
   "cell_type": "markdown",
   "metadata": {},
   "source": [
    "### Observations\n",
    "- The training dataset contains 891 rows and 12 columns.\n",
    "- Key features include passenger demographics, ticket class, and survival status.\n",
    "- Some features, such as `Age` and `Cabin`, have missing values.\n"
   ]
  },
  {
   "cell_type": "markdown",
   "metadata": {},
   "source": [
    "## Step 2: Exploratory Data Analysis (EDA)\n",
    "\n",
    "In this section, we explore the data distributions and identify relationships between features. Visualizations and summary statistics help guide preprocessing steps.\n"
   ]
  },
  {
   "cell_type": "code",
   "execution_count": 109,
   "metadata": {},
   "outputs": [
    {
     "data": {
      "text/html": [
       "<div>\n",
       "<style scoped>\n",
       "    .dataframe tbody tr th:only-of-type {\n",
       "        vertical-align: middle;\n",
       "    }\n",
       "\n",
       "    .dataframe tbody tr th {\n",
       "        vertical-align: top;\n",
       "    }\n",
       "\n",
       "    .dataframe thead th {\n",
       "        text-align: right;\n",
       "    }\n",
       "</style>\n",
       "<table border=\"1\" class=\"dataframe\">\n",
       "  <thead>\n",
       "    <tr style=\"text-align: right;\">\n",
       "      <th></th>\n",
       "      <th>PassengerId</th>\n",
       "      <th>Survived</th>\n",
       "      <th>Pclass</th>\n",
       "      <th>Name</th>\n",
       "      <th>Sex</th>\n",
       "      <th>Age</th>\n",
       "      <th>SibSp</th>\n",
       "      <th>Parch</th>\n",
       "      <th>Ticket</th>\n",
       "      <th>Fare</th>\n",
       "      <th>Cabin</th>\n",
       "      <th>Embarked</th>\n",
       "    </tr>\n",
       "  </thead>\n",
       "  <tbody>\n",
       "    <tr>\n",
       "      <th>0</th>\n",
       "      <td>1</td>\n",
       "      <td>0</td>\n",
       "      <td>3</td>\n",
       "      <td>Braund, Mr. Owen Harris</td>\n",
       "      <td>male</td>\n",
       "      <td>22.0</td>\n",
       "      <td>1</td>\n",
       "      <td>0</td>\n",
       "      <td>A/5 21171</td>\n",
       "      <td>7.2500</td>\n",
       "      <td>NaN</td>\n",
       "      <td>S</td>\n",
       "    </tr>\n",
       "    <tr>\n",
       "      <th>1</th>\n",
       "      <td>2</td>\n",
       "      <td>1</td>\n",
       "      <td>1</td>\n",
       "      <td>Cumings, Mrs. John Bradley (Florence Briggs Th...</td>\n",
       "      <td>female</td>\n",
       "      <td>38.0</td>\n",
       "      <td>1</td>\n",
       "      <td>0</td>\n",
       "      <td>PC 17599</td>\n",
       "      <td>71.2833</td>\n",
       "      <td>C85</td>\n",
       "      <td>C</td>\n",
       "    </tr>\n",
       "    <tr>\n",
       "      <th>2</th>\n",
       "      <td>3</td>\n",
       "      <td>1</td>\n",
       "      <td>3</td>\n",
       "      <td>Heikkinen, Miss. Laina</td>\n",
       "      <td>female</td>\n",
       "      <td>26.0</td>\n",
       "      <td>0</td>\n",
       "      <td>0</td>\n",
       "      <td>STON/O2. 3101282</td>\n",
       "      <td>7.9250</td>\n",
       "      <td>NaN</td>\n",
       "      <td>S</td>\n",
       "    </tr>\n",
       "    <tr>\n",
       "      <th>3</th>\n",
       "      <td>4</td>\n",
       "      <td>1</td>\n",
       "      <td>1</td>\n",
       "      <td>Futrelle, Mrs. Jacques Heath (Lily May Peel)</td>\n",
       "      <td>female</td>\n",
       "      <td>35.0</td>\n",
       "      <td>1</td>\n",
       "      <td>0</td>\n",
       "      <td>113803</td>\n",
       "      <td>53.1000</td>\n",
       "      <td>C123</td>\n",
       "      <td>S</td>\n",
       "    </tr>\n",
       "    <tr>\n",
       "      <th>4</th>\n",
       "      <td>5</td>\n",
       "      <td>0</td>\n",
       "      <td>3</td>\n",
       "      <td>Allen, Mr. William Henry</td>\n",
       "      <td>male</td>\n",
       "      <td>35.0</td>\n",
       "      <td>0</td>\n",
       "      <td>0</td>\n",
       "      <td>373450</td>\n",
       "      <td>8.0500</td>\n",
       "      <td>NaN</td>\n",
       "      <td>S</td>\n",
       "    </tr>\n",
       "    <tr>\n",
       "      <th>...</th>\n",
       "      <td>...</td>\n",
       "      <td>...</td>\n",
       "      <td>...</td>\n",
       "      <td>...</td>\n",
       "      <td>...</td>\n",
       "      <td>...</td>\n",
       "      <td>...</td>\n",
       "      <td>...</td>\n",
       "      <td>...</td>\n",
       "      <td>...</td>\n",
       "      <td>...</td>\n",
       "      <td>...</td>\n",
       "    </tr>\n",
       "    <tr>\n",
       "      <th>886</th>\n",
       "      <td>887</td>\n",
       "      <td>0</td>\n",
       "      <td>2</td>\n",
       "      <td>Montvila, Rev. Juozas</td>\n",
       "      <td>male</td>\n",
       "      <td>27.0</td>\n",
       "      <td>0</td>\n",
       "      <td>0</td>\n",
       "      <td>211536</td>\n",
       "      <td>13.0000</td>\n",
       "      <td>NaN</td>\n",
       "      <td>S</td>\n",
       "    </tr>\n",
       "    <tr>\n",
       "      <th>887</th>\n",
       "      <td>888</td>\n",
       "      <td>1</td>\n",
       "      <td>1</td>\n",
       "      <td>Graham, Miss. Margaret Edith</td>\n",
       "      <td>female</td>\n",
       "      <td>19.0</td>\n",
       "      <td>0</td>\n",
       "      <td>0</td>\n",
       "      <td>112053</td>\n",
       "      <td>30.0000</td>\n",
       "      <td>B42</td>\n",
       "      <td>S</td>\n",
       "    </tr>\n",
       "    <tr>\n",
       "      <th>888</th>\n",
       "      <td>889</td>\n",
       "      <td>0</td>\n",
       "      <td>3</td>\n",
       "      <td>Johnston, Miss. Catherine Helen \"Carrie\"</td>\n",
       "      <td>female</td>\n",
       "      <td>NaN</td>\n",
       "      <td>1</td>\n",
       "      <td>2</td>\n",
       "      <td>W./C. 6607</td>\n",
       "      <td>23.4500</td>\n",
       "      <td>NaN</td>\n",
       "      <td>S</td>\n",
       "    </tr>\n",
       "    <tr>\n",
       "      <th>889</th>\n",
       "      <td>890</td>\n",
       "      <td>1</td>\n",
       "      <td>1</td>\n",
       "      <td>Behr, Mr. Karl Howell</td>\n",
       "      <td>male</td>\n",
       "      <td>26.0</td>\n",
       "      <td>0</td>\n",
       "      <td>0</td>\n",
       "      <td>111369</td>\n",
       "      <td>30.0000</td>\n",
       "      <td>C148</td>\n",
       "      <td>C</td>\n",
       "    </tr>\n",
       "    <tr>\n",
       "      <th>890</th>\n",
       "      <td>891</td>\n",
       "      <td>0</td>\n",
       "      <td>3</td>\n",
       "      <td>Dooley, Mr. Patrick</td>\n",
       "      <td>male</td>\n",
       "      <td>32.0</td>\n",
       "      <td>0</td>\n",
       "      <td>0</td>\n",
       "      <td>370376</td>\n",
       "      <td>7.7500</td>\n",
       "      <td>NaN</td>\n",
       "      <td>Q</td>\n",
       "    </tr>\n",
       "  </tbody>\n",
       "</table>\n",
       "<p>891 rows × 12 columns</p>\n",
       "</div>"
      ],
      "text/plain": [
       "     PassengerId  Survived  Pclass  \\\n",
       "0              1         0       3   \n",
       "1              2         1       1   \n",
       "2              3         1       3   \n",
       "3              4         1       1   \n",
       "4              5         0       3   \n",
       "..           ...       ...     ...   \n",
       "886          887         0       2   \n",
       "887          888         1       1   \n",
       "888          889         0       3   \n",
       "889          890         1       1   \n",
       "890          891         0       3   \n",
       "\n",
       "                                                  Name     Sex   Age  SibSp  \\\n",
       "0                              Braund, Mr. Owen Harris    male  22.0      1   \n",
       "1    Cumings, Mrs. John Bradley (Florence Briggs Th...  female  38.0      1   \n",
       "2                               Heikkinen, Miss. Laina  female  26.0      0   \n",
       "3         Futrelle, Mrs. Jacques Heath (Lily May Peel)  female  35.0      1   \n",
       "4                             Allen, Mr. William Henry    male  35.0      0   \n",
       "..                                                 ...     ...   ...    ...   \n",
       "886                              Montvila, Rev. Juozas    male  27.0      0   \n",
       "887                       Graham, Miss. Margaret Edith  female  19.0      0   \n",
       "888           Johnston, Miss. Catherine Helen \"Carrie\"  female   NaN      1   \n",
       "889                              Behr, Mr. Karl Howell    male  26.0      0   \n",
       "890                                Dooley, Mr. Patrick    male  32.0      0   \n",
       "\n",
       "     Parch            Ticket     Fare Cabin Embarked  \n",
       "0        0         A/5 21171   7.2500   NaN        S  \n",
       "1        0          PC 17599  71.2833   C85        C  \n",
       "2        0  STON/O2. 3101282   7.9250   NaN        S  \n",
       "3        0            113803  53.1000  C123        S  \n",
       "4        0            373450   8.0500   NaN        S  \n",
       "..     ...               ...      ...   ...      ...  \n",
       "886      0            211536  13.0000   NaN        S  \n",
       "887      0            112053  30.0000   B42        S  \n",
       "888      2        W./C. 6607  23.4500   NaN        S  \n",
       "889      0            111369  30.0000  C148        C  \n",
       "890      0            370376   7.7500   NaN        Q  \n",
       "\n",
       "[891 rows x 12 columns]"
      ]
     },
     "execution_count": 109,
     "metadata": {},
     "output_type": "execute_result"
    }
   ],
   "source": [
    "data_import_train"
   ]
  },
  {
   "cell_type": "code",
   "execution_count": 110,
   "metadata": {},
   "outputs": [
    {
     "data": {
      "image/png": "[encoded data removed]",
      "text/plain": [
       "<Figure size 1200x800 with 9 Axes>"
      ]
     },
     "metadata": {},
     "output_type": "display_data"
    }
   ],
   "source": [
    "import matplotlib.pyplot as plt\n",
    "data_import_train.hist(bins=50, figsize=(12,8))\n",
    "plt.show()"
   ]
  },
  {
   "cell_type": "code",
   "execution_count": 111,
   "metadata": {},
   "outputs": [
    {
     "name": "stdout",
     "output_type": "stream",
     "text": [
      "             PassengerId  Survived    Pclass       Age     SibSp     Parch  \\\n",
      "PassengerId     1.000000 -0.005007 -0.035144  0.036847 -0.057527 -0.001652   \n",
      "Survived       -0.005007  1.000000 -0.338481 -0.077221 -0.035322  0.081629   \n",
      "Pclass         -0.035144 -0.338481  1.000000 -0.369226  0.083081  0.018443   \n",
      "Age             0.036847 -0.077221 -0.369226  1.000000 -0.308247 -0.189119   \n",
      "SibSp          -0.057527 -0.035322  0.083081 -0.308247  1.000000  0.414838   \n",
      "Parch          -0.001652  0.081629  0.018443 -0.189119  0.414838  1.000000   \n",
      "Fare            0.012658  0.257307 -0.549500  0.096067  0.159651  0.216225   \n",
      "\n",
      "                 Fare  \n",
      "PassengerId  0.012658  \n",
      "Survived     0.257307  \n",
      "Pclass      -0.549500  \n",
      "Age          0.096067  \n",
      "SibSp        0.159651  \n",
      "Parch        0.216225  \n",
      "Fare         1.000000  \n"
     ]
    }
   ],
   "source": [
    "# Select only numeric columns\n",
    "numeric_data = data_import_train.select_dtypes(include=['float64', 'int64'])\n",
    "\n",
    "# Calculate correlation matrix\n",
    "correlation_matrix = numeric_data.corr()\n",
    "\n",
    "# Display the correlation matrix\n",
    "print(correlation_matrix)\n",
    "\n"
   ]
  },
  {
   "cell_type": "code",
   "execution_count": 112,
   "metadata": {},
   "outputs": [
    {
     "data": {
      "text/plain": [
       "<Axes: >"
      ]
     },
     "execution_count": 112,
     "metadata": {},
     "output_type": "execute_result"
    },
    {
     "data": {
      "image/png": "[encoded data removed]",
      "text/plain": [
       "<Figure size 1100x900 with 2 Axes>"
      ]
     },
     "metadata": {},
     "output_type": "display_data"
    }
   ],
   "source": [
    "import seaborn as sns\n",
    "import numpy as np\n",
    "corr = correlation_matrix\n",
    "mask = np.triu(np.ones_like(corr, dtype=bool))\n",
    "f, ax = plt.subplots(figsize=(11, 9))\n",
    "cmap = sns.diverging_palette(230, 20, as_cmap=True)\n",
    "sns.heatmap(corr, mask=mask, cmap=cmap, vmax=.3, center=0,\n",
    "            square=True, linewidths=.5, cbar_kws={\"shrink\": .5})"
   ]
  },
  {
   "cell_type": "markdown",
   "metadata": {},
   "source": [
    "### Key Insights from EDA\n",
    "- The survival rate is higher for passengers in first class and for women.\n",
    "- Missing values are significant in the `Age` and `Cabin` columns.\n",
    "- The `Embarked` feature has a small number of missing values.\n"
   ]
  },
  {
   "cell_type": "markdown",
   "metadata": {},
   "source": [
    "## Step 3: Data Preprocessing\n",
    "\n",
    "Data cleaning and preprocessing are crucial to improving model performance. Below, we handle missing values, encode categorical variables, and normalize numerical features.\n"
   ]
  },
  {
   "cell_type": "code",
   "execution_count": 83,
   "metadata": {},
   "outputs": [],
   "source": [
    "data_import_train = data_import_train.drop('Cabin', axis=1)\n",
    "data_import_test = data_import_test.drop('Cabin', axis=1)"
   ]
  },
  {
   "cell_type": "code",
   "execution_count": 84,
   "metadata": {},
   "outputs": [
    {
     "name": "stdout",
     "output_type": "stream",
     "text": [
      "<class 'pandas.core.frame.DataFrame'>\n",
      "RangeIndex: 891 entries, 0 to 890\n",
      "Data columns (total 11 columns):\n",
      " #   Column       Non-Null Count  Dtype  \n",
      "---  ------       --------------  -----  \n",
      " 0   PassengerId  891 non-null    int64  \n",
      " 1   Survived     891 non-null    int64  \n",
      " 2   Pclass       891 non-null    int64  \n",
      " 3   Name         891 non-null    object \n",
      " 4   Sex          891 non-null    object \n",
      " 5   Age          714 non-null    float64\n",
      " 6   SibSp        891 non-null    int64  \n",
      " 7   Parch        891 non-null    int64  \n",
      " 8   Ticket       891 non-null    object \n",
      " 9   Fare         891 non-null    float64\n",
      " 10  Embarked     889 non-null    object \n",
      "dtypes: float64(2), int64(5), object(4)\n",
      "memory usage: 76.7+ KB\n"
     ]
    }
   ],
   "source": [
    "data_import_train.info()"
   ]
  },
  {
   "cell_type": "code",
   "execution_count": 85,
   "metadata": {},
   "outputs": [],
   "source": [
    "from sklearn.impute import SimpleImputer\n",
    "\n",
    "# Filling missing values in the 'Age', 'Embarked', and 'Fare' columns\n",
    "imputer_mean = SimpleImputer(strategy='mean')  # Filling with the mean\n",
    "imputer_mode = SimpleImputer(strategy='most_frequent')  # Filling with the mode\n",
    "\n",
    "# Using mean for Age and Fare\n",
    "data_import_train['Age'] = imputer_mean.fit_transform(data_import_train[['Age']]).ravel()\n",
    "data_import_test['Age'] = imputer_mean.transform(data_import_test[['Age']]).ravel()\n",
    "\n",
    "data_import_test['Fare'] = imputer_mean.fit_transform(data_import_test[['Fare']]).ravel()  # Missing values may only exist in the test set\n",
    "\n",
    "# Using mode (most frequent value) for Embarked\n",
    "data_import_train['Embarked'] = imputer_mode.fit_transform(data_import_train[['Embarked']]).ravel()\n",
    "data_import_test['Embarked'] = imputer_mode.transform(data_import_test[['Embarked']]).ravel()\n"
   ]
  },
  {
   "cell_type": "code",
   "execution_count": 86,
   "metadata": {},
   "outputs": [
    {
     "name": "stdout",
     "output_type": "stream",
     "text": [
      "<class 'pandas.core.frame.DataFrame'>\n",
      "RangeIndex: 891 entries, 0 to 890\n",
      "Data columns (total 11 columns):\n",
      " #   Column       Non-Null Count  Dtype  \n",
      "---  ------       --------------  -----  \n",
      " 0   PassengerId  891 non-null    int64  \n",
      " 1   Survived     891 non-null    int64  \n",
      " 2   Pclass       891 non-null    int64  \n",
      " 3   Name         891 non-null    object \n",
      " 4   Sex          891 non-null    object \n",
      " 5   Age          891 non-null    float64\n",
      " 6   SibSp        891 non-null    int64  \n",
      " 7   Parch        891 non-null    int64  \n",
      " 8   Ticket       891 non-null    object \n",
      " 9   Fare         891 non-null    float64\n",
      " 10  Embarked     891 non-null    object \n",
      "dtypes: float64(2), int64(5), object(4)\n",
      "memory usage: 76.7+ KB\n"
     ]
    }
   ],
   "source": [
    "data_import_train.info()"
   ]
  },
  {
   "cell_type": "markdown",
   "metadata": {},
   "source": [
    "Missing values are filled completely."
   ]
  },
  {
   "cell_type": "markdown",
   "metadata": {},
   "source": [
    "### Encode Categorical Variables\n"
   ]
  },
  {
   "cell_type": "code",
   "execution_count": 87,
   "metadata": {},
   "outputs": [
    {
     "name": "stdout",
     "output_type": "stream",
     "text": [
      "<class 'pandas.core.frame.DataFrame'>\n",
      "RangeIndex: 891 entries, 0 to 890\n",
      "Data columns (total 11 columns):\n",
      " #   Column       Non-Null Count  Dtype  \n",
      "---  ------       --------------  -----  \n",
      " 0   PassengerId  891 non-null    int64  \n",
      " 1   Survived     891 non-null    int64  \n",
      " 2   Pclass       891 non-null    int64  \n",
      " 3   Name         891 non-null    object \n",
      " 4   Sex          891 non-null    object \n",
      " 5   Age          891 non-null    float64\n",
      " 6   SibSp        891 non-null    int64  \n",
      " 7   Parch        891 non-null    int64  \n",
      " 8   Ticket       891 non-null    object \n",
      " 9   Fare         891 non-null    float64\n",
      " 10  Embarked     891 non-null    object \n",
      "dtypes: float64(2), int64(5), object(4)\n",
      "memory usage: 76.7+ KB\n"
     ]
    }
   ],
   "source": [
    "data_import_train.info()"
   ]
  },
  {
   "cell_type": "code",
   "execution_count": 88,
   "metadata": {},
   "outputs": [
    {
     "data": {
      "text/plain": [
       "<Axes: ylabel='Embarked'>"
      ]
     },
     "execution_count": 88,
     "metadata": {},
     "output_type": "execute_result"
    },
    {
     "data": {
      "image/png": "[encoded data removed]",
      "text/plain": [
       "<Figure size 640x480 with 1 Axes>"
      ]
     },
     "metadata": {},
     "output_type": "display_data"
    }
   ],
   "source": [
    "data_import_train['Embarked'].value_counts().plot(kind='barh')"
   ]
  },
  {
   "cell_type": "code",
   "execution_count": 89,
   "metadata": {},
   "outputs": [
    {
     "data": {
      "text/plain": [
       "<Axes: ylabel='Sex'>"
      ]
     },
     "execution_count": 89,
     "metadata": {},
     "output_type": "execute_result"
    },
    {
     "data": {
      "image/png": "[encoded data removed]",
      "text/plain": [
       "<Figure size 640x480 with 1 Axes>"
      ]
     },
     "metadata": {},
     "output_type": "display_data"
    }
   ],
   "source": [
    "data_import_train['Sex'].value_counts().plot(kind='barh')"
   ]
  },
  {
   "cell_type": "code",
   "execution_count": 90,
   "metadata": {},
   "outputs": [],
   "source": [
    "from sklearn.preprocessing import OneHotEncoder\n",
    "\n",
    "# Categorical columns\n",
    "categorical_cols = ['Sex', 'Embarked']\n",
    "\n",
    "# Create encoder\n",
    "encoder = OneHotEncoder(sparse_output=False)  \n",
    "\n",
    "# Transform training data\n",
    "encoded_train = pd.DataFrame(\n",
    "    encoder.fit_transform(data_import_train[categorical_cols]),\n",
    "    columns=encoder.get_feature_names_out(categorical_cols)\n",
    ")\n",
    "\n",
    "# Transform test data\n",
    "encoded_test = pd.DataFrame(\n",
    "    encoder.transform(data_import_test[categorical_cols]),\n",
    "    columns=encoder.get_feature_names_out(categorical_cols)\n",
    ")\n",
    "\n",
    "# Drop categorical columns from the original data and add new encoded columns\n",
    "data_import_train = data_import_train.drop(categorical_cols, axis=1).reset_index(drop=True)\n",
    "data_import_test = data_import_test.drop(categorical_cols, axis=1).reset_index(drop=True)\n",
    "\n",
    "data_import_train = pd.concat([data_import_train, encoded_train], axis=1)\n",
    "data_import_test = pd.concat([data_import_test, encoded_test], axis=1)\n"
   ]
  },
  {
   "cell_type": "code",
   "execution_count": 91,
   "metadata": {},
   "outputs": [
    {
     "name": "stdout",
     "output_type": "stream",
     "text": [
      "<class 'pandas.core.frame.DataFrame'>\n",
      "RangeIndex: 418 entries, 0 to 417\n",
      "Data columns (total 13 columns):\n",
      " #   Column       Non-Null Count  Dtype  \n",
      "---  ------       --------------  -----  \n",
      " 0   PassengerId  418 non-null    int64  \n",
      " 1   Pclass       418 non-null    int64  \n",
      " 2   Name         418 non-null    object \n",
      " 3   Age          418 non-null    float64\n",
      " 4   SibSp        418 non-null    int64  \n",
      " 5   Parch        418 non-null    int64  \n",
      " 6   Ticket       418 non-null    object \n",
      " 7   Fare         418 non-null    float64\n",
      " 8   Sex_female   418 non-null    float64\n",
      " 9   Sex_male     418 non-null    float64\n",
      " 10  Embarked_C   418 non-null    float64\n",
      " 11  Embarked_Q   418 non-null    float64\n",
      " 12  Embarked_S   418 non-null    float64\n",
      "dtypes: float64(7), int64(4), object(2)\n",
      "memory usage: 42.6+ KB\n"
     ]
    }
   ],
   "source": [
    "data_import_test.info()"
   ]
  },
  {
   "cell_type": "code",
   "execution_count": 92,
   "metadata": {},
   "outputs": [
    {
     "data": {
      "text/html": [
       "<div>\n",
       "<style scoped>\n",
       "    .dataframe tbody tr th:only-of-type {\n",
       "        vertical-align: middle;\n",
       "    }\n",
       "\n",
       "    .dataframe tbody tr th {\n",
       "        vertical-align: top;\n",
       "    }\n",
       "\n",
       "    .dataframe thead th {\n",
       "        text-align: right;\n",
       "    }\n",
       "</style>\n",
       "<table border=\"1\" class=\"dataframe\">\n",
       "  <thead>\n",
       "    <tr style=\"text-align: right;\">\n",
       "      <th></th>\n",
       "      <th>PassengerId</th>\n",
       "      <th>Pclass</th>\n",
       "      <th>Name</th>\n",
       "      <th>Age</th>\n",
       "      <th>SibSp</th>\n",
       "      <th>Parch</th>\n",
       "      <th>Ticket</th>\n",
       "      <th>Fare</th>\n",
       "      <th>Sex_female</th>\n",
       "      <th>Sex_male</th>\n",
       "      <th>Embarked_C</th>\n",
       "      <th>Embarked_Q</th>\n",
       "      <th>Embarked_S</th>\n",
       "    </tr>\n",
       "  </thead>\n",
       "  <tbody>\n",
       "    <tr>\n",
       "      <th>0</th>\n",
       "      <td>892</td>\n",
       "      <td>3</td>\n",
       "      <td>Kelly, Mr. James</td>\n",
       "      <td>34.500000</td>\n",
       "      <td>0</td>\n",
       "      <td>0</td>\n",
       "      <td>330911</td>\n",
       "      <td>7.8292</td>\n",
       "      <td>0.0</td>\n",
       "      <td>1.0</td>\n",
       "      <td>0.0</td>\n",
       "      <td>1.0</td>\n",
       "      <td>0.0</td>\n",
       "    </tr>\n",
       "    <tr>\n",
       "      <th>1</th>\n",
       "      <td>893</td>\n",
       "      <td>3</td>\n",
       "      <td>Wilkes, Mrs. James (Ellen Needs)</td>\n",
       "      <td>47.000000</td>\n",
       "      <td>1</td>\n",
       "      <td>0</td>\n",
       "      <td>363272</td>\n",
       "      <td>7.0000</td>\n",
       "      <td>1.0</td>\n",
       "      <td>0.0</td>\n",
       "      <td>0.0</td>\n",
       "      <td>0.0</td>\n",
       "      <td>1.0</td>\n",
       "    </tr>\n",
       "    <tr>\n",
       "      <th>2</th>\n",
       "      <td>894</td>\n",
       "      <td>2</td>\n",
       "      <td>Myles, Mr. Thomas Francis</td>\n",
       "      <td>62.000000</td>\n",
       "      <td>0</td>\n",
       "      <td>0</td>\n",
       "      <td>240276</td>\n",
       "      <td>9.6875</td>\n",
       "      <td>0.0</td>\n",
       "      <td>1.0</td>\n",
       "      <td>0.0</td>\n",
       "      <td>1.0</td>\n",
       "      <td>0.0</td>\n",
       "    </tr>\n",
       "    <tr>\n",
       "      <th>3</th>\n",
       "      <td>895</td>\n",
       "      <td>3</td>\n",
       "      <td>Wirz, Mr. Albert</td>\n",
       "      <td>27.000000</td>\n",
       "      <td>0</td>\n",
       "      <td>0</td>\n",
       "      <td>315154</td>\n",
       "      <td>8.6625</td>\n",
       "      <td>0.0</td>\n",
       "      <td>1.0</td>\n",
       "      <td>0.0</td>\n",
       "      <td>0.0</td>\n",
       "      <td>1.0</td>\n",
       "    </tr>\n",
       "    <tr>\n",
       "      <th>4</th>\n",
       "      <td>896</td>\n",
       "      <td>3</td>\n",
       "      <td>Hirvonen, Mrs. Alexander (Helga E Lindqvist)</td>\n",
       "      <td>22.000000</td>\n",
       "      <td>1</td>\n",
       "      <td>1</td>\n",
       "      <td>3101298</td>\n",
       "      <td>12.2875</td>\n",
       "      <td>1.0</td>\n",
       "      <td>0.0</td>\n",
       "      <td>0.0</td>\n",
       "      <td>0.0</td>\n",
       "      <td>1.0</td>\n",
       "    </tr>\n",
       "    <tr>\n",
       "      <th>...</th>\n",
       "      <td>...</td>\n",
       "      <td>...</td>\n",
       "      <td>...</td>\n",
       "      <td>...</td>\n",
       "      <td>...</td>\n",
       "      <td>...</td>\n",
       "      <td>...</td>\n",
       "      <td>...</td>\n",
       "      <td>...</td>\n",
       "      <td>...</td>\n",
       "      <td>...</td>\n",
       "      <td>...</td>\n",
       "      <td>...</td>\n",
       "    </tr>\n",
       "    <tr>\n",
       "      <th>413</th>\n",
       "      <td>1305</td>\n",
       "      <td>3</td>\n",
       "      <td>Spector, Mr. Woolf</td>\n",
       "      <td>29.699118</td>\n",
       "      <td>0</td>\n",
       "      <td>0</td>\n",
       "      <td>A.5. 3236</td>\n",
       "      <td>8.0500</td>\n",
       "      <td>0.0</td>\n",
       "      <td>1.0</td>\n",
       "      <td>0.0</td>\n",
       "      <td>0.0</td>\n",
       "      <td>1.0</td>\n",
       "    </tr>\n",
       "    <tr>\n",
       "      <th>414</th>\n",
       "      <td>1306</td>\n",
       "      <td>1</td>\n",
       "      <td>Oliva y Ocana, Dona. Fermina</td>\n",
       "      <td>39.000000</td>\n",
       "      <td>0</td>\n",
       "      <td>0</td>\n",
       "      <td>PC 17758</td>\n",
       "      <td>108.9000</td>\n",
       "      <td>1.0</td>\n",
       "      <td>0.0</td>\n",
       "      <td>1.0</td>\n",
       "      <td>0.0</td>\n",
       "      <td>0.0</td>\n",
       "    </tr>\n",
       "    <tr>\n",
       "      <th>415</th>\n",
       "      <td>1307</td>\n",
       "      <td>3</td>\n",
       "      <td>Saether, Mr. Simon Sivertsen</td>\n",
       "      <td>38.500000</td>\n",
       "      <td>0</td>\n",
       "      <td>0</td>\n",
       "      <td>SOTON/O.Q. 3101262</td>\n",
       "      <td>7.2500</td>\n",
       "      <td>0.0</td>\n",
       "      <td>1.0</td>\n",
       "      <td>0.0</td>\n",
       "      <td>0.0</td>\n",
       "      <td>1.0</td>\n",
       "    </tr>\n",
       "    <tr>\n",
       "      <th>416</th>\n",
       "      <td>1308</td>\n",
       "      <td>3</td>\n",
       "      <td>Ware, Mr. Frederick</td>\n",
       "      <td>29.699118</td>\n",
       "      <td>0</td>\n",
       "      <td>0</td>\n",
       "      <td>359309</td>\n",
       "      <td>8.0500</td>\n",
       "      <td>0.0</td>\n",
       "      <td>1.0</td>\n",
       "      <td>0.0</td>\n",
       "      <td>0.0</td>\n",
       "      <td>1.0</td>\n",
       "    </tr>\n",
       "    <tr>\n",
       "      <th>417</th>\n",
       "      <td>1309</td>\n",
       "      <td>3</td>\n",
       "      <td>Peter, Master. Michael J</td>\n",
       "      <td>29.699118</td>\n",
       "      <td>1</td>\n",
       "      <td>1</td>\n",
       "      <td>2668</td>\n",
       "      <td>22.3583</td>\n",
       "      <td>0.0</td>\n",
       "      <td>1.0</td>\n",
       "      <td>1.0</td>\n",
       "      <td>0.0</td>\n",
       "      <td>0.0</td>\n",
       "    </tr>\n",
       "  </tbody>\n",
       "</table>\n",
       "<p>418 rows × 13 columns</p>\n",
       "</div>"
      ],
      "text/plain": [
       "     PassengerId  Pclass                                          Name  \\\n",
       "0            892       3                              Kelly, Mr. James   \n",
       "1            893       3              Wilkes, Mrs. James (Ellen Needs)   \n",
       "2            894       2                     Myles, Mr. Thomas Francis   \n",
       "3            895       3                              Wirz, Mr. Albert   \n",
       "4            896       3  Hirvonen, Mrs. Alexander (Helga E Lindqvist)   \n",
       "..           ...     ...                                           ...   \n",
       "413         1305       3                            Spector, Mr. Woolf   \n",
       "414         1306       1                  Oliva y Ocana, Dona. Fermina   \n",
       "415         1307       3                  Saether, Mr. Simon Sivertsen   \n",
       "416         1308       3                           Ware, Mr. Frederick   \n",
       "417         1309       3                      Peter, Master. Michael J   \n",
       "\n",
       "           Age  SibSp  Parch              Ticket      Fare  Sex_female  \\\n",
       "0    34.500000      0      0              330911    7.8292         0.0   \n",
       "1    47.000000      1      0              363272    7.0000         1.0   \n",
       "2    62.000000      0      0              240276    9.6875         0.0   \n",
       "3    27.000000      0      0              315154    8.6625         0.0   \n",
       "4    22.000000      1      1             3101298   12.2875         1.0   \n",
       "..         ...    ...    ...                 ...       ...         ...   \n",
       "413  29.699118      0      0           A.5. 3236    8.0500         0.0   \n",
       "414  39.000000      0      0            PC 17758  108.9000         1.0   \n",
       "415  38.500000      0      0  SOTON/O.Q. 3101262    7.2500         0.0   \n",
       "416  29.699118      0      0              359309    8.0500         0.0   \n",
       "417  29.699118      1      1                2668   22.3583         0.0   \n",
       "\n",
       "     Sex_male  Embarked_C  Embarked_Q  Embarked_S  \n",
       "0         1.0         0.0         1.0         0.0  \n",
       "1         0.0         0.0         0.0         1.0  \n",
       "2         1.0         0.0         1.0         0.0  \n",
       "3         1.0         0.0         0.0         1.0  \n",
       "4         0.0         0.0         0.0         1.0  \n",
       "..        ...         ...         ...         ...  \n",
       "413       1.0         0.0         0.0         1.0  \n",
       "414       0.0         1.0         0.0         0.0  \n",
       "415       1.0         0.0         0.0         1.0  \n",
       "416       1.0         0.0         0.0         1.0  \n",
       "417       1.0         1.0         0.0         0.0  \n",
       "\n",
       "[418 rows x 13 columns]"
      ]
     },
     "execution_count": 92,
     "metadata": {},
     "output_type": "execute_result"
    }
   ],
   "source": [
    "data_import_test"
   ]
  },
  {
   "cell_type": "markdown",
   "metadata": {},
   "source": [
    "### Scaling"
   ]
  },
  {
   "cell_type": "code",
   "execution_count": 93,
   "metadata": {},
   "outputs": [
    {
     "name": "stdout",
     "output_type": "stream",
     "text": [
      "Training data (standardized):\n",
      "   PassengerId    Pclass       Age     SibSp     Parch      Fare  Sex_female  \\\n",
      "0    -1.730108  0.827377 -0.592481  0.432793 -0.473674 -0.502445   -0.737695   \n",
      "1    -1.726220 -1.566107  0.638789  0.432793 -0.473674  0.786845    1.355574   \n",
      "2    -1.722332  0.827377 -0.284663 -0.474545 -0.473674 -0.488854    1.355574   \n",
      "3    -1.718444 -1.566107  0.407926  0.432793 -0.473674  0.420730    1.355574   \n",
      "4    -1.714556  0.827377  0.407926 -0.474545 -0.473674 -0.486337   -0.737695   \n",
      "\n",
      "   Sex_male  Embarked_C  Embarked_Q  Embarked_S  \n",
      "0  0.737695   -0.482043   -0.307562    0.615838  \n",
      "1 -1.355574    2.074505   -0.307562   -1.623803  \n",
      "2 -1.355574   -0.482043   -0.307562    0.615838  \n",
      "3 -1.355574   -0.482043   -0.307562    0.615838  \n",
      "4  0.737695   -0.482043   -0.307562    0.615838  \n",
      "\n",
      "Target variable (y_train):\n",
      "0    0\n",
      "1    1\n",
      "2    1\n",
      "3    1\n",
      "4    0\n",
      "Name: Survived, dtype: int64\n",
      "\n",
      "Test data (standardized):\n",
      "   PassengerId    Pclass       Age     SibSp     Parch      Fare  Sex_female  \\\n",
      "0     1.733996  0.827377  0.369449 -0.474545 -0.473674 -0.490783   -0.737695   \n",
      "1     1.737884  0.827377  1.331378  0.432793 -0.473674 -0.507479    1.355574   \n",
      "2     1.741772 -0.369365  2.485693 -0.474545 -0.473674 -0.453367   -0.737695   \n",
      "3     1.745659  0.827377 -0.207709 -0.474545 -0.473674 -0.474005   -0.737695   \n",
      "4     1.749547  0.827377 -0.592481  0.432793  0.767630 -0.401017    1.355574   \n",
      "\n",
      "   Sex_male  Embarked_C  Embarked_Q  Embarked_S  \n",
      "0  0.737695   -0.482043    3.251373   -1.623803  \n",
      "1 -1.355574   -0.482043   -0.307562    0.615838  \n",
      "2  0.737695   -0.482043    3.251373   -1.623803  \n",
      "3  0.737695   -0.482043   -0.307562    0.615838  \n",
      "4 -1.355574   -0.482043   -0.307562    0.615838  \n"
     ]
    }
   ],
   "source": [
    "from sklearn.preprocessing import StandardScaler\n",
    "\n",
    "# Exclude 'Survived' (target variable) while selecting numeric columns\n",
    "numeric_cols = data_import_train.select_dtypes(include=['int64', 'float64']).columns.drop('Survived')\n",
    "\n",
    "# Separate only the numeric columns\n",
    "data_import_train_numeric = data_import_train[numeric_cols]\n",
    "data_import_test_numeric = data_import_test[numeric_cols]\n",
    "\n",
    "# Standardize using StandardScaler\n",
    "scaler = StandardScaler()\n",
    "\n",
    "# Transform training and test sets\n",
    "data_import_train_scaled = scaler.fit_transform(data_import_train_numeric)\n",
    "data_import_test_scaled = scaler.transform(data_import_test_numeric)\n",
    "\n",
    "# Convert standardized data back to DataFrame format\n",
    "data_import_train_scaled = pd.DataFrame(data_import_train_scaled, columns=numeric_cols)\n",
    "data_import_test_scaled = pd.DataFrame(data_import_test_scaled, columns=numeric_cols)\n",
    "\n",
    "# Separate the target variable\n",
    "y_train = data_import_train['Survived']\n",
    "\n",
    "# Final outputs\n",
    "print(\"Training data (standardized):\")\n",
    "print(data_import_train_scaled.head())\n",
    "print(\"\\nTarget variable (y_train):\")\n",
    "print(y_train.head())\n",
    "print(\"\\nTest data (standardized):\")\n",
    "print(data_import_test_scaled.head())\n"
   ]
  },
  {
   "cell_type": "markdown",
   "metadata": {},
   "source": [
    "Test verisinde target değer yok. Submission için kullanılacak. Bu nedenle bir cross validation datası oluşturmak gerekecek."
   ]
  },
  {
   "cell_type": "code",
   "execution_count": 94,
   "metadata": {},
   "outputs": [
    {
     "name": "stdout",
     "output_type": "stream",
     "text": [
      "Training Data (X_train) Shape: (712, 11)\n",
      "Cross-Validation Data (X_cv) Shape: (179, 11)\n",
      "Test Data (X_test) Shape: (418, 11)\n",
      "\n",
      "Training Target Variable (y_train) Shape: (712,)\n",
      "Cross-Validation Target Variable (y_cv) Shape: (179,)\n"
     ]
    }
   ],
   "source": [
    "from sklearn.model_selection import train_test_split\n",
    "\n",
    "# First, separate the training data (data_import_train_scaled) and target variable (y_train)\n",
    "X_train_full = data_import_train_scaled\n",
    "y_train_full = y_train\n",
    "\n",
    "# Split the training data into training and cross-validation sets\n",
    "X_train, X_cv, y_train, y_cv = train_test_split(\n",
    "    X_train_full, y_train_full, test_size=0.2, random_state=42\n",
    ")\n",
    "\n",
    "# Test data is already scaled: data_import_test_scaled\n",
    "X_test = data_import_test_scaled\n",
    "\n",
    "# Check the outputs\n",
    "print(\"Training Data (X_train) Shape:\", X_train.shape)\n",
    "print(\"Cross-Validation Data (X_cv) Shape:\", X_cv.shape)\n",
    "print(\"Test Data (X_test) Shape:\", X_test.shape)\n",
    "\n",
    "print(\"\\nTraining Target Variable (y_train) Shape:\", y_train.shape)\n",
    "print(\"Cross-Validation Target Variable (y_cv) Shape:\", y_cv.shape)\n"
   ]
  },
  {
   "cell_type": "markdown",
   "metadata": {},
   "source": [
    "### Preprocessing Steps\n",
    "1. Filled missing `Age` values using the median grouped by `Pclass` and `Sex`.\n",
    "2. Encoded the `Sex` and `Embarked` features using label encoding.\n",
    "3. Dropped the `Cabin` feature due to excessive missing data.\n",
    "4. Scaled the `Fare` feature to ensure uniformity.\n"
   ]
  },
  {
   "cell_type": "markdown",
   "metadata": {},
   "source": [
    "## Step 4: Model Training and Evaluation\n",
    "\n",
    "We evaluate multiple machine learning models to predict survival. Metrics such as accuracy, precision, recall, and F1-score are used for assessment.\n"
   ]
  },
  {
   "cell_type": "markdown",
   "metadata": {},
   "source": [
    "### Model: K Neighbors Classifying\n",
    "- Achieved an accuracy of ~80% on the CV set.\n",
    "\n"
   ]
  },
  {
   "cell_type": "code",
   "execution_count": 121,
   "metadata": {},
   "outputs": [
    {
     "name": "stdout",
     "output_type": "stream",
     "text": [
      "KNN Performans Raporu (Cross-Validation Seti):\n",
      "\n",
      "              precision    recall  f1-score   support\n",
      "\n",
      "           0       0.81      0.86      0.83       105\n",
      "           1       0.78      0.72      0.75        74\n",
      "\n",
      "    accuracy                           0.80       179\n",
      "   macro avg       0.80      0.79      0.79       179\n",
      "weighted avg       0.80      0.80      0.80       179\n",
      "\n",
      "Accuracy: 0.7989\n",
      "\n",
      "Confusion Matrix:\n",
      "[[90 15]\n",
      " [21 53]]\n"
     ]
    }
   ],
   "source": [
    "from sklearn.neighbors import KNeighborsClassifier\n",
    "from sklearn.metrics import classification_report, confusion_matrix, accuracy_score\n",
    "\n",
    "# KNN modelini tanımlayın\n",
    "knn = KNeighborsClassifier(n_neighbors=5)  # Varsayılan olarak 5 komşu kullanılır\n",
    "\n",
    "# Modeli eğitme\n",
    "knn.fit(X_train, y_train)\n",
    "\n",
    "# Cross-validation verisi üzerinde tahmin yapma\n",
    "y_cv_pred = knn.predict(X_cv)\n",
    "\n",
    "# Performans Metrikleri\n",
    "print(\"KNN Performans Raporu (Cross-Validation Seti):\\n\")\n",
    "print(classification_report(y_cv, y_cv_pred))\n",
    "\n",
    "# Doğruluk (Accuracy)\n",
    "accuracy = accuracy_score(y_cv, y_cv_pred)\n",
    "print(f\"Accuracy: {accuracy:.4f}\")\n",
    "\n",
    "# Confusion Matrix\n",
    "print(\"\\nConfusion Matrix:\")\n",
    "print(confusion_matrix(y_cv, y_cv_pred))\n"
   ]
  },
  {
   "cell_type": "markdown",
   "metadata": {},
   "source": [
    "### Model: Suppor Vector M.\n",
    "- Achieved an accuracy of ~81% on the CV set.\n"
   ]
  },
  {
   "cell_type": "code",
   "execution_count": 122,
   "metadata": {},
   "outputs": [
    {
     "name": "stdout",
     "output_type": "stream",
     "text": [
      "SVM Performance Report (Cross-Validation Set):\n",
      "\n",
      "              precision    recall  f1-score   support\n",
      "\n",
      "           0       0.81      0.89      0.85       105\n",
      "           1       0.81      0.70      0.75        74\n",
      "\n",
      "    accuracy                           0.81       179\n",
      "   macro avg       0.81      0.79      0.80       179\n",
      "weighted avg       0.81      0.81      0.81       179\n",
      "\n",
      "Accuracy: 0.8101\n",
      "\n",
      "Confusion Matrix:\n",
      "[[93 12]\n",
      " [22 52]]\n"
     ]
    }
   ],
   "source": [
    "from sklearn.svm import SVC\n",
    "from sklearn.metrics import classification_report, confusion_matrix, accuracy_score\n",
    "\n",
    "# Define the SVM model\n",
    "svm = SVC(kernel='rbf', random_state=42)  # RBF kernel is used by default\n",
    "\n",
    "# Train the model\n",
    "svm.fit(X_train, y_train)\n",
    "\n",
    "# Make predictions on the cross-validation data\n",
    "y_cv_pred = svm.predict(X_cv)\n",
    "\n",
    "# Performance Metrics\n",
    "print(\"SVM Performance Report (Cross-Validation Set):\\n\")\n",
    "print(classification_report(y_cv, y_cv_pred))\n",
    "\n",
    "# Accuracy\n",
    "accuracy = accuracy_score(y_cv, y_cv_pred)\n",
    "print(f\"Accuracy: {accuracy:.4f}\")\n",
    "\n",
    "# Confusion Matrix\n",
    "print(\"\\nConfusion Matrix:\")\n",
    "print(confusion_matrix(y_cv, y_cv_pred))\n"
   ]
  },
  {
   "cell_type": "markdown",
   "metadata": {},
   "source": [
    "#### Tuning: SVM\n",
    "- Using Randomized Search CV\n",
    "- Best Parameters found as : {'kernel': 'rbf', 'gamma': 0.1, 'degree': 3, 'C': 0.46415888336127775}\n",
    "- Best Cross-Validation Score: 0.8146\n"
   ]
  },
  {
   "cell_type": "code",
   "execution_count": 123,
   "metadata": {},
   "outputs": [
    {
     "name": "stdout",
     "output_type": "stream",
     "text": [
      "Best Parameters: {'kernel': 'rbf', 'gamma': 0.1, 'degree': 3, 'C': 0.46415888336127775}\n",
      "Best Cross-Validation Score: 0.8146\n",
      "\n",
      "SVC Performance Report (Cross-Validation Set):\n",
      "\n",
      "              precision    recall  f1-score   support\n",
      "\n",
      "           0       0.81      0.89      0.85       105\n",
      "           1       0.81      0.70      0.75        74\n",
      "\n",
      "    accuracy                           0.81       179\n",
      "   macro avg       0.81      0.79      0.80       179\n",
      "weighted avg       0.81      0.81      0.81       179\n",
      "\n",
      "\n",
      "Confusion Matrix:\n",
      "[[93 12]\n",
      " [22 52]]\n"
     ]
    }
   ],
   "source": [
    "from sklearn.svm import SVC\n",
    "from sklearn.model_selection import RandomizedSearchCV\n",
    "from sklearn.metrics import classification_report, confusion_matrix, accuracy_score\n",
    "import numpy as np\n",
    "\n",
    "# Define the SVC model\n",
    "svm = SVC(random_state=42)\n",
    "\n",
    "# Define the hyperparameter ranges\n",
    "param_distributions = {\n",
    "    'C': np.logspace(-3, 3, 10),          # C parameter: from 0.001 to 1000\n",
    "    'gamma': ['scale', 'auto'] + list(np.logspace(-4, 1, 6)),  # Gamma options\n",
    "    'kernel': ['linear', 'rbf', 'poly'],  # Types of kernels\n",
    "    'degree': [2, 3, 4]                   # Degree for polynomial kernel\n",
    "}\n",
    "\n",
    "# Define RandomizedSearchCV\n",
    "random_search = RandomizedSearchCV(\n",
    "    estimator=svm,\n",
    "    param_distributions=param_distributions,\n",
    "    n_iter=50,  # Number of random combinations to try\n",
    "    scoring='accuracy',  # Evaluation metric\n",
    "    cv=5,  # 5-fold cross-validation\n",
    "    random_state=42,\n",
    "    n_jobs=-1  # Use all available processors\n",
    ")\n",
    "\n",
    "# Train the model\n",
    "random_search.fit(X_train, y_train)\n",
    "\n",
    "# Print the best parameters and performance\n",
    "print(\"Best Parameters:\", random_search.best_params_)\n",
    "print(f\"Best Cross-Validation Score: {random_search.best_score_:.4f}\")\n",
    "\n",
    "# Make predictions on the cross-validation set\n",
    "best_svc = random_search.best_estimator_\n",
    "y_cv_pred = best_svc.predict(X_cv)\n",
    "\n",
    "# Performance Metrics\n",
    "print(\"\\nSVC Performance Report (Cross-Validation Set):\\n\")\n",
    "print(classification_report(y_cv, y_cv_pred))\n",
    "\n",
    "# Confusion Matrix\n",
    "print(\"\\nConfusion Matrix:\")\n",
    "print(confusion_matrix(y_cv, y_cv_pred))\n"
   ]
  },
  {
   "cell_type": "code",
   "execution_count": 124,
   "metadata": {},
   "outputs": [
    {
     "name": "stdout",
     "output_type": "stream",
     "text": [
      "First 10 predictions on the test set:\n",
      "[0 1 0 0 1 0 1 0 1 0]\n",
      "\n",
      "Test set predictions saved to: titanic_test_predictions.csv\n"
     ]
    }
   ],
   "source": [
    "# Recreate and train the model with the best parameters\n",
    "best_svc = SVC(\n",
    "    kernel='rbf',\n",
    "    C=0.46415888336127775,\n",
    "    gamma=0.1,\n",
    "    random_state=42\n",
    ")\n",
    "\n",
    "# Train the model on the training data\n",
    "best_svc.fit(X_train, y_train)\n",
    "\n",
    "# Make predictions on the test data\n",
    "y_test_pred = best_svc.predict(X_test)\n",
    "\n",
    "# Print the first 10 predictions\n",
    "print(\"First 10 predictions on the test set:\")\n",
    "print(y_test_pred[:10])\n",
    "\n",
    "# Add all predictions to a DataFrame\n",
    "import pandas as pd\n",
    "\n",
    "test_predictions = pd.DataFrame({\n",
    "    'PassengerId': data_import_test['PassengerId'],  # Retrieve PassengerId from the test set\n",
    "    'Survived': y_test_pred  # Predicted Survived values from the model\n",
    "})\n",
    "\n",
    "# Save the results to a CSV file (optional)\n",
    "test_predictions.to_csv(\"titanic_test_predictions.csv\", index=False)\n",
    "\n",
    "print(\"\\nTest set predictions saved to: titanic_test_predictions.csv\")\n"
   ]
  },
  {
   "cell_type": "markdown",
   "metadata": {},
   "source": [
    "### Model: Random Forest Classifier\n",
    "- Achieved an accuracy of ~84% on the CV set.\n"
   ]
  },
  {
   "cell_type": "code",
   "execution_count": 125,
   "metadata": {},
   "outputs": [
    {
     "name": "stdout",
     "output_type": "stream",
     "text": [
      "RFC Performance Report (Cross-Validation Set):\n",
      "\n",
      "              precision    recall  f1-score   support\n",
      "\n",
      "           0       0.85      0.90      0.87       105\n",
      "           1       0.84      0.77      0.80        74\n",
      "\n",
      "    accuracy                           0.84       179\n",
      "   macro avg       0.84      0.83      0.84       179\n",
      "weighted avg       0.84      0.84      0.84       179\n",
      "\n",
      "Accuracy: 0.8436\n",
      "\n",
      "Confusion Matrix:\n",
      "[[94 11]\n",
      " [17 57]]\n"
     ]
    }
   ],
   "source": [
    "from sklearn.ensemble import RandomForestClassifier\n",
    "from sklearn.metrics import classification_report, confusion_matrix, accuracy_score\n",
    "\n",
    "# Define the RFC mode\n",
    "forest_clf = RandomForestClassifier(random_state=42)\n",
    "\n",
    "# Train the model\n",
    "forest_clf.fit(X_train, y_train)\n",
    "\n",
    "# Make predictions on the cross-validation data\n",
    "y_cv_pred = forest_clf.predict(X_cv)\n",
    "\n",
    "# Performance Metrics\n",
    "print(\"RFC Performance Report (Cross-Validation Set):\\n\")\n",
    "print(classification_report(y_cv, y_cv_pred))\n",
    "\n",
    "# Accuracy\n",
    "accuracy = accuracy_score(y_cv, y_cv_pred)\n",
    "print(f\"Accuracy: {accuracy:.4f}\")\n",
    "\n",
    "# Confusion Matrix\n",
    "print(\"\\nConfusion Matrix:\")\n",
    "print(confusion_matrix(y_cv, y_cv_pred))\n"
   ]
  },
  {
   "cell_type": "markdown",
   "metadata": {},
   "source": [
    "#### Tuning: RFC\n",
    "- Using Randomized Search CV\n",
    "- Best Parameters found as:{'n_estimators': 10, 'min_samples_split': 20, 'min_samples_leaf': 4, 'max_features': 'log2', 'max_depth': 15}\n",
    "- Best Cross-Validation Score: 0.8287\n"
   ]
  },
  {
   "cell_type": "code",
   "execution_count": 126,
   "metadata": {},
   "outputs": [
    {
     "name": "stdout",
     "output_type": "stream",
     "text": [
      "Best Parameters: {'n_estimators': 10, 'min_samples_split': 20, 'min_samples_leaf': 4, 'max_features': 'log2', 'max_depth': 15}\n",
      "Best Cross-Validation Score: 0.8287\n",
      "\n",
      "Random Forest Performance Report (Cross-Validation Set):\n",
      "\n",
      "              precision    recall  f1-score   support\n",
      "\n",
      "           0       0.80      0.88      0.84       105\n",
      "           1       0.80      0.69      0.74        74\n",
      "\n",
      "    accuracy                           0.80       179\n",
      "   macro avg       0.80      0.78      0.79       179\n",
      "weighted avg       0.80      0.80      0.80       179\n",
      "\n",
      "\n",
      "Confusion Matrix:\n",
      "[[92 13]\n",
      " [23 51]]\n"
     ]
    }
   ],
   "source": [
    "from sklearn.ensemble import RandomForestClassifier\n",
    "from sklearn.model_selection import RandomizedSearchCV\n",
    "from sklearn.metrics import classification_report, confusion_matrix, accuracy_score\n",
    "\n",
    "# Define the RandomForestClassifier model\n",
    "rf = RandomForestClassifier(random_state=42)\n",
    "\n",
    "# Define the hyperparameter ranges\n",
    "param_distributions = {\n",
    "    'n_estimators': [10, 50, 100, 200, 500],  # Number of trees\n",
    "    'max_depth': [None] + list(range(5, 21, 5)),  # Depth of the tree\n",
    "    'min_samples_split': [2, 5, 10, 20],  # Minimum samples to split an internal node\n",
    "    'min_samples_leaf': [1, 2, 4, 10],  # Minimum samples at a leaf node\n",
    "    'max_features': ['sqrt', 'log2', None]  # Number of features to consider for splits\n",
    "}\n",
    "\n",
    "# Define RandomizedSearchCV\n",
    "random_search = RandomizedSearchCV(\n",
    "    estimator=rf,\n",
    "    param_distributions=param_distributions,\n",
    "    n_iter=50,  # Number of random combinations to try\n",
    "    scoring='accuracy',  # Evaluation metric\n",
    "    cv=5,  # 5-fold cross-validation\n",
    "    random_state=42,\n",
    "    n_jobs=-1  # Use all available processors\n",
    ")\n",
    "\n",
    "# Train the model\n",
    "random_search.fit(X_train, y_train)\n",
    "\n",
    "# Print the best parameters and performance\n",
    "print(\"Best Parameters:\", random_search.best_params_)\n",
    "print(f\"Best Cross-Validation Score: {random_search.best_score_:.4f}\")\n",
    "\n",
    "# Make predictions on the cross-validation set\n",
    "best_rf = random_search.best_estimator_\n",
    "y_cv_pred = best_rf.predict(X_cv)\n",
    "\n",
    "# Performance Metrics\n",
    "print(\"\\nRandom Forest Performance Report (Cross-Validation Set):\\n\")\n",
    "print(classification_report(y_cv, y_cv_pred))\n",
    "\n",
    "# Confusion Matrix\n",
    "print(\"\\nConfusion Matrix:\")\n",
    "print(confusion_matrix(y_cv, y_cv_pred))\n"
   ]
  },
  {
   "cell_type": "code",
   "execution_count": 127,
   "metadata": {},
   "outputs": [
    {
     "name": "stdout",
     "output_type": "stream",
     "text": [
      "First 10 predictions on the test set:\n",
      "[0 0 0 0 1 0 1 0 1 0]\n",
      "\n",
      "Test set predictions saved to: titanic_test_predictions.csv\n"
     ]
    }
   ],
   "source": [
    "# Recreate and train the model with the best parameters\n",
    "best_rfc = RandomForestClassifier(\n",
    "    n_estimators=10,\n",
    "    min_samples_split=20,\n",
    "    min_samples_leaf=4,\n",
    "    max_features='log2',\n",
    "    max_depth=15,\n",
    "    random_state=42\n",
    ")\n",
    "\n",
    "# Train the model on the training data\n",
    "best_rfc.fit(X_train, y_train)\n",
    "\n",
    "# Make predictions on the test data\n",
    "y_test_pred = best_rfc.predict(X_test)\n",
    "\n",
    "# Print the first 10 predictions\n",
    "print(\"First 10 predictions on the test set:\")\n",
    "print(y_test_pred[:10])\n",
    "\n",
    "# Add all predictions to a DataFrame\n",
    "import pandas as pd\n",
    "\n",
    "test_predictions = pd.DataFrame({\n",
    "    'PassengerId': data_import_test['PassengerId'],  # Retrieve PassengerId from the test set\n",
    "    'Survived': y_test_pred  # Predicted Survived values from the model\n",
    "})\n",
    "\n",
    "# Save the results to a CSV file (optional)\n",
    "test_predictions.to_csv(\"titanic_test_predictions.csv\", index=False)\n",
    "\n",
    "print(\"\\nTest set predictions saved to: titanic_test_predictions.csv\")\n"
   ]
  }
 ],
 "metadata": {
  "kernelspec": {
   "display_name": "base",
   "language": "python",
   "name": "python3"
  },
  "language_info": {
   "codemirror_mode": {
    "name": "ipython",
    "version": 3
   },
   "file_extension": ".py",
   "mimetype": "text/x-python",
   "name": "python",
   "nbconvert_exporter": "python",
   "pygments_lexer": "ipython3",
   "version": "3.12.3"
  }
 },
 "nbformat": 4,
 "nbformat_minor": 2
}
